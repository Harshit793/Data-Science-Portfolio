{
  "nbformat": 4,
  "nbformat_minor": 0,
  "metadata": {
    "colab": {
      "name": "Pima Indian diabetes.ipynb",
      "provenance": [],
      "collapsed_sections": []
    },
    "kernelspec": {
      "name": "python3",
      "display_name": "Python 3"
    },
    "language_info": {
      "name": "python"
    }
  },
  "cells": [
    {
      "cell_type": "markdown",
      "metadata": {
        "id": "kslslX3WqE96"
      },
      "source": [
        "# Pima Indians Diabetes Dataset:Exploratory Data Analysis\n",
        "In this notebook, we're going to analyse the famous Pima Indians Diabetes dataset from Kaggle.The dataset is meant for supervised machine learning, but we're only going to do some exploratory analysis at this stage.\n",
        "\n",
        "#We'll try to answer the following questions:\n",
        "1.What is the age distribution of females having diabetes?\n",
        "\n",
        "2 Are Pregnancies responsible for Gestational Diabetes?\n",
        "\n",
        "3.What is the range of Insulin Count and how it plays an important role in building of sugar in the blood?\n",
        "\n",
        "4.Is Blood Pressure have some role in diabetes?\n",
        "\n",
        "5.What is role of B.M.I in diabetes?\n",
        "\n",
        "6.What are reasons for diabetes in aged persons? \n",
        "  \n",
        "       \n",
        "\n",
        "\n",
        "\n",
        "\n"
      ]
    },
    {
      "cell_type": "code",
      "metadata": {
        "id": "tBXG6X1fp7NU"
      },
      "source": [
        "import numpy as np\n",
        "import pandas as pd\n",
        "import seaborn as sns\n",
        "from matplotlib import pyplot as plt\n",
        "import warnings\n",
        "warnings.filterwarnings('ignore')\n"
      ],
      "execution_count": null,
      "outputs": []
    },
    {
      "cell_type": "code",
      "metadata": {
        "id": "v1u3vgJxyiIx"
      },
      "source": [
        "#Dataset is downloaded from Kaggle\n",
        "diabetes=pd.read_csv(\"/content/diabetes.csv\")"
      ],
      "execution_count": null,
      "outputs": []
    },
    {
      "cell_type": "code",
      "metadata": {
        "colab": {
          "base_uri": "https://localhost:8080/",
          "height": 958
        },
        "id": "RTvy3DG10Bk2",
        "outputId": "17db23e7-290b-4e92-e368-77380ad6ea7e"
      },
      "source": [
        "display(diabetes.head(20),diabetes.info())"
      ],
      "execution_count": null,
      "outputs": [
        {
          "output_type": "stream",
          "text": [
            "<class 'pandas.core.frame.DataFrame'>\n",
            "RangeIndex: 768 entries, 0 to 767\n",
            "Data columns (total 9 columns):\n",
            " #   Column                    Non-Null Count  Dtype  \n",
            "---  ------                    --------------  -----  \n",
            " 0   Pregnancies               768 non-null    int64  \n",
            " 1   Glucose                   768 non-null    int64  \n",
            " 2   BloodPressure             768 non-null    int64  \n",
            " 3   SkinThickness             768 non-null    int64  \n",
            " 4   Insulin                   768 non-null    int64  \n",
            " 5   BMI                       768 non-null    float64\n",
            " 6   DiabetesPedigreeFunction  768 non-null    float64\n",
            " 7   Age                       768 non-null    int64  \n",
            " 8   Outcome                   768 non-null    int64  \n",
            "dtypes: float64(2), int64(7)\n",
            "memory usage: 54.1 KB\n"
          ],
          "name": "stdout"
        },
        {
          "output_type": "display_data",
          "data": {
            "text/html": [
              "<div>\n",
              "<style scoped>\n",
              "    .dataframe tbody tr th:only-of-type {\n",
              "        vertical-align: middle;\n",
              "    }\n",
              "\n",
              "    .dataframe tbody tr th {\n",
              "        vertical-align: top;\n",
              "    }\n",
              "\n",
              "    .dataframe thead th {\n",
              "        text-align: right;\n",
              "    }\n",
              "</style>\n",
              "<table border=\"1\" class=\"dataframe\">\n",
              "  <thead>\n",
              "    <tr style=\"text-align: right;\">\n",
              "      <th></th>\n",
              "      <th>Pregnancies</th>\n",
              "      <th>Glucose</th>\n",
              "      <th>BloodPressure</th>\n",
              "      <th>SkinThickness</th>\n",
              "      <th>Insulin</th>\n",
              "      <th>BMI</th>\n",
              "      <th>DiabetesPedigreeFunction</th>\n",
              "      <th>Age</th>\n",
              "      <th>Outcome</th>\n",
              "    </tr>\n",
              "  </thead>\n",
              "  <tbody>\n",
              "    <tr>\n",
              "      <th>0</th>\n",
              "      <td>6</td>\n",
              "      <td>148</td>\n",
              "      <td>72</td>\n",
              "      <td>35</td>\n",
              "      <td>0</td>\n",
              "      <td>33.6</td>\n",
              "      <td>0.627</td>\n",
              "      <td>50</td>\n",
              "      <td>1</td>\n",
              "    </tr>\n",
              "    <tr>\n",
              "      <th>1</th>\n",
              "      <td>1</td>\n",
              "      <td>85</td>\n",
              "      <td>66</td>\n",
              "      <td>29</td>\n",
              "      <td>0</td>\n",
              "      <td>26.6</td>\n",
              "      <td>0.351</td>\n",
              "      <td>31</td>\n",
              "      <td>0</td>\n",
              "    </tr>\n",
              "    <tr>\n",
              "      <th>2</th>\n",
              "      <td>8</td>\n",
              "      <td>183</td>\n",
              "      <td>64</td>\n",
              "      <td>0</td>\n",
              "      <td>0</td>\n",
              "      <td>23.3</td>\n",
              "      <td>0.672</td>\n",
              "      <td>32</td>\n",
              "      <td>1</td>\n",
              "    </tr>\n",
              "    <tr>\n",
              "      <th>3</th>\n",
              "      <td>1</td>\n",
              "      <td>89</td>\n",
              "      <td>66</td>\n",
              "      <td>23</td>\n",
              "      <td>94</td>\n",
              "      <td>28.1</td>\n",
              "      <td>0.167</td>\n",
              "      <td>21</td>\n",
              "      <td>0</td>\n",
              "    </tr>\n",
              "    <tr>\n",
              "      <th>4</th>\n",
              "      <td>0</td>\n",
              "      <td>137</td>\n",
              "      <td>40</td>\n",
              "      <td>35</td>\n",
              "      <td>168</td>\n",
              "      <td>43.1</td>\n",
              "      <td>2.288</td>\n",
              "      <td>33</td>\n",
              "      <td>1</td>\n",
              "    </tr>\n",
              "    <tr>\n",
              "      <th>5</th>\n",
              "      <td>5</td>\n",
              "      <td>116</td>\n",
              "      <td>74</td>\n",
              "      <td>0</td>\n",
              "      <td>0</td>\n",
              "      <td>25.6</td>\n",
              "      <td>0.201</td>\n",
              "      <td>30</td>\n",
              "      <td>0</td>\n",
              "    </tr>\n",
              "    <tr>\n",
              "      <th>6</th>\n",
              "      <td>3</td>\n",
              "      <td>78</td>\n",
              "      <td>50</td>\n",
              "      <td>32</td>\n",
              "      <td>88</td>\n",
              "      <td>31.0</td>\n",
              "      <td>0.248</td>\n",
              "      <td>26</td>\n",
              "      <td>1</td>\n",
              "    </tr>\n",
              "    <tr>\n",
              "      <th>7</th>\n",
              "      <td>10</td>\n",
              "      <td>115</td>\n",
              "      <td>0</td>\n",
              "      <td>0</td>\n",
              "      <td>0</td>\n",
              "      <td>35.3</td>\n",
              "      <td>0.134</td>\n",
              "      <td>29</td>\n",
              "      <td>0</td>\n",
              "    </tr>\n",
              "    <tr>\n",
              "      <th>8</th>\n",
              "      <td>2</td>\n",
              "      <td>197</td>\n",
              "      <td>70</td>\n",
              "      <td>45</td>\n",
              "      <td>543</td>\n",
              "      <td>30.5</td>\n",
              "      <td>0.158</td>\n",
              "      <td>53</td>\n",
              "      <td>1</td>\n",
              "    </tr>\n",
              "    <tr>\n",
              "      <th>9</th>\n",
              "      <td>8</td>\n",
              "      <td>125</td>\n",
              "      <td>96</td>\n",
              "      <td>0</td>\n",
              "      <td>0</td>\n",
              "      <td>0.0</td>\n",
              "      <td>0.232</td>\n",
              "      <td>54</td>\n",
              "      <td>1</td>\n",
              "    </tr>\n",
              "    <tr>\n",
              "      <th>10</th>\n",
              "      <td>4</td>\n",
              "      <td>110</td>\n",
              "      <td>92</td>\n",
              "      <td>0</td>\n",
              "      <td>0</td>\n",
              "      <td>37.6</td>\n",
              "      <td>0.191</td>\n",
              "      <td>30</td>\n",
              "      <td>0</td>\n",
              "    </tr>\n",
              "    <tr>\n",
              "      <th>11</th>\n",
              "      <td>10</td>\n",
              "      <td>168</td>\n",
              "      <td>74</td>\n",
              "      <td>0</td>\n",
              "      <td>0</td>\n",
              "      <td>38.0</td>\n",
              "      <td>0.537</td>\n",
              "      <td>34</td>\n",
              "      <td>1</td>\n",
              "    </tr>\n",
              "    <tr>\n",
              "      <th>12</th>\n",
              "      <td>10</td>\n",
              "      <td>139</td>\n",
              "      <td>80</td>\n",
              "      <td>0</td>\n",
              "      <td>0</td>\n",
              "      <td>27.1</td>\n",
              "      <td>1.441</td>\n",
              "      <td>57</td>\n",
              "      <td>0</td>\n",
              "    </tr>\n",
              "    <tr>\n",
              "      <th>13</th>\n",
              "      <td>1</td>\n",
              "      <td>189</td>\n",
              "      <td>60</td>\n",
              "      <td>23</td>\n",
              "      <td>846</td>\n",
              "      <td>30.1</td>\n",
              "      <td>0.398</td>\n",
              "      <td>59</td>\n",
              "      <td>1</td>\n",
              "    </tr>\n",
              "    <tr>\n",
              "      <th>14</th>\n",
              "      <td>5</td>\n",
              "      <td>166</td>\n",
              "      <td>72</td>\n",
              "      <td>19</td>\n",
              "      <td>175</td>\n",
              "      <td>25.8</td>\n",
              "      <td>0.587</td>\n",
              "      <td>51</td>\n",
              "      <td>1</td>\n",
              "    </tr>\n",
              "    <tr>\n",
              "      <th>15</th>\n",
              "      <td>7</td>\n",
              "      <td>100</td>\n",
              "      <td>0</td>\n",
              "      <td>0</td>\n",
              "      <td>0</td>\n",
              "      <td>30.0</td>\n",
              "      <td>0.484</td>\n",
              "      <td>32</td>\n",
              "      <td>1</td>\n",
              "    </tr>\n",
              "    <tr>\n",
              "      <th>16</th>\n",
              "      <td>0</td>\n",
              "      <td>118</td>\n",
              "      <td>84</td>\n",
              "      <td>47</td>\n",
              "      <td>230</td>\n",
              "      <td>45.8</td>\n",
              "      <td>0.551</td>\n",
              "      <td>31</td>\n",
              "      <td>1</td>\n",
              "    </tr>\n",
              "    <tr>\n",
              "      <th>17</th>\n",
              "      <td>7</td>\n",
              "      <td>107</td>\n",
              "      <td>74</td>\n",
              "      <td>0</td>\n",
              "      <td>0</td>\n",
              "      <td>29.6</td>\n",
              "      <td>0.254</td>\n",
              "      <td>31</td>\n",
              "      <td>1</td>\n",
              "    </tr>\n",
              "    <tr>\n",
              "      <th>18</th>\n",
              "      <td>1</td>\n",
              "      <td>103</td>\n",
              "      <td>30</td>\n",
              "      <td>38</td>\n",
              "      <td>83</td>\n",
              "      <td>43.3</td>\n",
              "      <td>0.183</td>\n",
              "      <td>33</td>\n",
              "      <td>0</td>\n",
              "    </tr>\n",
              "    <tr>\n",
              "      <th>19</th>\n",
              "      <td>1</td>\n",
              "      <td>115</td>\n",
              "      <td>70</td>\n",
              "      <td>30</td>\n",
              "      <td>96</td>\n",
              "      <td>34.6</td>\n",
              "      <td>0.529</td>\n",
              "      <td>32</td>\n",
              "      <td>1</td>\n",
              "    </tr>\n",
              "  </tbody>\n",
              "</table>\n",
              "</div>"
            ],
            "text/plain": [
              "    Pregnancies  Glucose  BloodPressure  ...  DiabetesPedigreeFunction  Age  Outcome\n",
              "0             6      148             72  ...                     0.627   50        1\n",
              "1             1       85             66  ...                     0.351   31        0\n",
              "2             8      183             64  ...                     0.672   32        1\n",
              "3             1       89             66  ...                     0.167   21        0\n",
              "4             0      137             40  ...                     2.288   33        1\n",
              "5             5      116             74  ...                     0.201   30        0\n",
              "6             3       78             50  ...                     0.248   26        1\n",
              "7            10      115              0  ...                     0.134   29        0\n",
              "8             2      197             70  ...                     0.158   53        1\n",
              "9             8      125             96  ...                     0.232   54        1\n",
              "10            4      110             92  ...                     0.191   30        0\n",
              "11           10      168             74  ...                     0.537   34        1\n",
              "12           10      139             80  ...                     1.441   57        0\n",
              "13            1      189             60  ...                     0.398   59        1\n",
              "14            5      166             72  ...                     0.587   51        1\n",
              "15            7      100              0  ...                     0.484   32        1\n",
              "16            0      118             84  ...                     0.551   31        1\n",
              "17            7      107             74  ...                     0.254   31        1\n",
              "18            1      103             30  ...                     0.183   33        0\n",
              "19            1      115             70  ...                     0.529   32        1\n",
              "\n",
              "[20 rows x 9 columns]"
            ]
          },
          "metadata": {
            "tags": []
          }
        },
        {
          "output_type": "display_data",
          "data": {
            "text/plain": [
              "None"
            ]
          },
          "metadata": {
            "tags": []
          }
        }
      ]
    },
    {
      "cell_type": "markdown",
      "metadata": {
        "id": "AO5pnjzevuMS"
      },
      "source": [
        "# Useful Insight:-\n",
        "B.P,Insulin,Skin Thickness contains 0 which I guess is null value."
      ]
    },
    {
      "cell_type": "markdown",
      "metadata": {
        "id": "c8UjUAE0JItl"
      },
      "source": [
        "# Target Variable"
      ]
    },
    {
      "cell_type": "code",
      "metadata": {
        "id": "SJsumCD7J8f8",
        "colab": {
          "base_uri": "https://localhost:8080/",
          "height": 296
        },
        "outputId": "6fe34b5e-af81-4dca-c914-29007a8259da"
      },
      "source": [
        "sns.countplot(x='Outcome',data=diabetes)\n",
        "\n",
        "\n"
      ],
      "execution_count": null,
      "outputs": [
        {
          "output_type": "execute_result",
          "data": {
            "text/plain": [
              "<matplotlib.axes._subplots.AxesSubplot at 0x7f01014923d0>"
            ]
          },
          "metadata": {
            "tags": []
          },
          "execution_count": 11
        },
        {
          "output_type": "display_data",
          "data": {
            "image/png": "[encoded data removed]",
            "text/plain": [
              "<Figure size 432x288 with 1 Axes>"
            ]
          },
          "metadata": {
            "tags": [],
            "needs_background": "light"
          }
        }
      ]
    },
    {
      "cell_type": "markdown",
      "metadata": {
        "id": "y0oYR4lJw_XW"
      },
      "source": [
        "# Useful Insight:-\n",
        " Here Outcome shows that more % of  people are  healthy in comparison with diabetic,so let us analyse each and every column to get better insights."
      ]
    },
    {
      "cell_type": "code",
      "metadata": {
        "id": "mHaib0nyjA9i"
      },
      "source": [
        "columns=['Pregnancies',\t'Glucose',\t'BloodPressure','SkinThickness','Insulin','BMI','DiabetesPedigreeFunction','Age']"
      ],
      "execution_count": null,
      "outputs": []
    },
    {
      "cell_type": "code",
      "metadata": {
        "id": "RDdQG17NbuKW"
      },
      "source": [
        "diabetes2=diabetes.iloc[:,:-1].replace(0,np.NAN)#replacing zero with nan values"
      ],
      "execution_count": null,
      "outputs": []
    },
    {
      "cell_type": "code",
      "metadata": {
        "id": "RZ3W4AxYelP5"
      },
      "source": [
        "diabetes3=pd.concat([diabetes2,diabetes['Outcome']],axis=1)"
      ],
      "execution_count": null,
      "outputs": []
    },
    {
      "cell_type": "code",
      "metadata": {
        "colab": {
          "base_uri": "https://localhost:8080/",
          "height": 669
        },
        "id": "xIqn6amRfIRk",
        "outputId": "24beb5f1-cf00-4ff8-e308-3001db555e8e"
      },
      "source": [
        "diabetes3.head(20)"
      ],
      "execution_count": null,
      "outputs": [
        {
          "output_type": "execute_result",
          "data": {
            "text/html": [
              "<div>\n",
              "<style scoped>\n",
              "    .dataframe tbody tr th:only-of-type {\n",
              "        vertical-align: middle;\n",
              "    }\n",
              "\n",
              "    .dataframe tbody tr th {\n",
              "        vertical-align: top;\n",
              "    }\n",
              "\n",
              "    .dataframe thead th {\n",
              "        text-align: right;\n",
              "    }\n",
              "</style>\n",
              "<table border=\"1\" class=\"dataframe\">\n",
              "  <thead>\n",
              "    <tr style=\"text-align: right;\">\n",
              "      <th></th>\n",
              "      <th>Pregnancies</th>\n",
              "      <th>Glucose</th>\n",
              "      <th>BloodPressure</th>\n",
              "      <th>SkinThickness</th>\n",
              "      <th>Insulin</th>\n",
              "      <th>BMI</th>\n",
              "      <th>DiabetesPedigreeFunction</th>\n",
              "      <th>Age</th>\n",
              "      <th>Outcome</th>\n",
              "    </tr>\n",
              "  </thead>\n",
              "  <tbody>\n",
              "    <tr>\n",
              "      <th>0</th>\n",
              "      <td>6.0</td>\n",
              "      <td>148.0</td>\n",
              "      <td>72.0</td>\n",
              "      <td>35.0</td>\n",
              "      <td>NaN</td>\n",
              "      <td>33.6</td>\n",
              "      <td>0.627</td>\n",
              "      <td>50</td>\n",
              "      <td>1</td>\n",
              "    </tr>\n",
              "    <tr>\n",
              "      <th>1</th>\n",
              "      <td>1.0</td>\n",
              "      <td>85.0</td>\n",
              "      <td>66.0</td>\n",
              "      <td>29.0</td>\n",
              "      <td>NaN</td>\n",
              "      <td>26.6</td>\n",
              "      <td>0.351</td>\n",
              "      <td>31</td>\n",
              "      <td>0</td>\n",
              "    </tr>\n",
              "    <tr>\n",
              "      <th>2</th>\n",
              "      <td>8.0</td>\n",
              "      <td>183.0</td>\n",
              "      <td>64.0</td>\n",
              "      <td>NaN</td>\n",
              "      <td>NaN</td>\n",
              "      <td>23.3</td>\n",
              "      <td>0.672</td>\n",
              "      <td>32</td>\n",
              "      <td>1</td>\n",
              "    </tr>\n",
              "    <tr>\n",
              "      <th>3</th>\n",
              "      <td>1.0</td>\n",
              "      <td>89.0</td>\n",
              "      <td>66.0</td>\n",
              "      <td>23.0</td>\n",
              "      <td>94.0</td>\n",
              "      <td>28.1</td>\n",
              "      <td>0.167</td>\n",
              "      <td>21</td>\n",
              "      <td>0</td>\n",
              "    </tr>\n",
              "    <tr>\n",
              "      <th>4</th>\n",
              "      <td>NaN</td>\n",
              "      <td>137.0</td>\n",
              "      <td>40.0</td>\n",
              "      <td>35.0</td>\n",
              "      <td>168.0</td>\n",
              "      <td>43.1</td>\n",
              "      <td>2.288</td>\n",
              "      <td>33</td>\n",
              "      <td>1</td>\n",
              "    </tr>\n",
              "    <tr>\n",
              "      <th>5</th>\n",
              "      <td>5.0</td>\n",
              "      <td>116.0</td>\n",
              "      <td>74.0</td>\n",
              "      <td>NaN</td>\n",
              "      <td>NaN</td>\n",
              "      <td>25.6</td>\n",
              "      <td>0.201</td>\n",
              "      <td>30</td>\n",
              "      <td>0</td>\n",
              "    </tr>\n",
              "    <tr>\n",
              "      <th>6</th>\n",
              "      <td>3.0</td>\n",
              "      <td>78.0</td>\n",
              "      <td>50.0</td>\n",
              "      <td>32.0</td>\n",
              "      <td>88.0</td>\n",
              "      <td>31.0</td>\n",
              "      <td>0.248</td>\n",
              "      <td>26</td>\n",
              "      <td>1</td>\n",
              "    </tr>\n",
              "    <tr>\n",
              "      <th>7</th>\n",
              "      <td>10.0</td>\n",
              "      <td>115.0</td>\n",
              "      <td>NaN</td>\n",
              "      <td>NaN</td>\n",
              "      <td>NaN</td>\n",
              "      <td>35.3</td>\n",
              "      <td>0.134</td>\n",
              "      <td>29</td>\n",
              "      <td>0</td>\n",
              "    </tr>\n",
              "    <tr>\n",
              "      <th>8</th>\n",
              "      <td>2.0</td>\n",
              "      <td>197.0</td>\n",
              "      <td>70.0</td>\n",
              "      <td>45.0</td>\n",
              "      <td>543.0</td>\n",
              "      <td>30.5</td>\n",
              "      <td>0.158</td>\n",
              "      <td>53</td>\n",
              "      <td>1</td>\n",
              "    </tr>\n",
              "    <tr>\n",
              "      <th>9</th>\n",
              "      <td>8.0</td>\n",
              "      <td>125.0</td>\n",
              "      <td>96.0</td>\n",
              "      <td>NaN</td>\n",
              "      <td>NaN</td>\n",
              "      <td>NaN</td>\n",
              "      <td>0.232</td>\n",
              "      <td>54</td>\n",
              "      <td>1</td>\n",
              "    </tr>\n",
              "    <tr>\n",
              "      <th>10</th>\n",
              "      <td>4.0</td>\n",
              "      <td>110.0</td>\n",
              "      <td>92.0</td>\n",
              "      <td>NaN</td>\n",
              "      <td>NaN</td>\n",
              "      <td>37.6</td>\n",
              "      <td>0.191</td>\n",
              "      <td>30</td>\n",
              "      <td>0</td>\n",
              "    </tr>\n",
              "    <tr>\n",
              "      <th>11</th>\n",
              "      <td>10.0</td>\n",
              "      <td>168.0</td>\n",
              "      <td>74.0</td>\n",
              "      <td>NaN</td>\n",
              "      <td>NaN</td>\n",
              "      <td>38.0</td>\n",
              "      <td>0.537</td>\n",
              "      <td>34</td>\n",
              "      <td>1</td>\n",
              "    </tr>\n",
              "    <tr>\n",
              "      <th>12</th>\n",
              "      <td>10.0</td>\n",
              "      <td>139.0</td>\n",
              "      <td>80.0</td>\n",
              "      <td>NaN</td>\n",
              "      <td>NaN</td>\n",
              "      <td>27.1</td>\n",
              "      <td>1.441</td>\n",
              "      <td>57</td>\n",
              "      <td>0</td>\n",
              "    </tr>\n",
              "    <tr>\n",
              "      <th>13</th>\n",
              "      <td>1.0</td>\n",
              "      <td>189.0</td>\n",
              "      <td>60.0</td>\n",
              "      <td>23.0</td>\n",
              "      <td>846.0</td>\n",
              "      <td>30.1</td>\n",
              "      <td>0.398</td>\n",
              "      <td>59</td>\n",
              "      <td>1</td>\n",
              "    </tr>\n",
              "    <tr>\n",
              "      <th>14</th>\n",
              "      <td>5.0</td>\n",
              "      <td>166.0</td>\n",
              "      <td>72.0</td>\n",
              "      <td>19.0</td>\n",
              "      <td>175.0</td>\n",
              "      <td>25.8</td>\n",
              "      <td>0.587</td>\n",
              "      <td>51</td>\n",
              "      <td>1</td>\n",
              "    </tr>\n",
              "    <tr>\n",
              "      <th>15</th>\n",
              "      <td>7.0</td>\n",
              "      <td>100.0</td>\n",
              "      <td>NaN</td>\n",
              "      <td>NaN</td>\n",
              "      <td>NaN</td>\n",
              "      <td>30.0</td>\n",
              "      <td>0.484</td>\n",
              "      <td>32</td>\n",
              "      <td>1</td>\n",
              "    </tr>\n",
              "    <tr>\n",
              "      <th>16</th>\n",
              "      <td>NaN</td>\n",
              "      <td>118.0</td>\n",
              "      <td>84.0</td>\n",
              "      <td>47.0</td>\n",
              "      <td>230.0</td>\n",
              "      <td>45.8</td>\n",
              "      <td>0.551</td>\n",
              "      <td>31</td>\n",
              "      <td>1</td>\n",
              "    </tr>\n",
              "    <tr>\n",
              "      <th>17</th>\n",
              "      <td>7.0</td>\n",
              "      <td>107.0</td>\n",
              "      <td>74.0</td>\n",
              "      <td>NaN</td>\n",
              "      <td>NaN</td>\n",
              "      <td>29.6</td>\n",
              "      <td>0.254</td>\n",
              "      <td>31</td>\n",
              "      <td>1</td>\n",
              "    </tr>\n",
              "    <tr>\n",
              "      <th>18</th>\n",
              "      <td>1.0</td>\n",
              "      <td>103.0</td>\n",
              "      <td>30.0</td>\n",
              "      <td>38.0</td>\n",
              "      <td>83.0</td>\n",
              "      <td>43.3</td>\n",
              "      <td>0.183</td>\n",
              "      <td>33</td>\n",
              "      <td>0</td>\n",
              "    </tr>\n",
              "    <tr>\n",
              "      <th>19</th>\n",
              "      <td>1.0</td>\n",
              "      <td>115.0</td>\n",
              "      <td>70.0</td>\n",
              "      <td>30.0</td>\n",
              "      <td>96.0</td>\n",
              "      <td>34.6</td>\n",
              "      <td>0.529</td>\n",
              "      <td>32</td>\n",
              "      <td>1</td>\n",
              "    </tr>\n",
              "  </tbody>\n",
              "</table>\n",
              "</div>"
            ],
            "text/plain": [
              "    Pregnancies  Glucose  BloodPressure  ...  DiabetesPedigreeFunction  Age  Outcome\n",
              "0           6.0    148.0           72.0  ...                     0.627   50        1\n",
              "1           1.0     85.0           66.0  ...                     0.351   31        0\n",
              "2           8.0    183.0           64.0  ...                     0.672   32        1\n",
              "3           1.0     89.0           66.0  ...                     0.167   21        0\n",
              "4           NaN    137.0           40.0  ...                     2.288   33        1\n",
              "5           5.0    116.0           74.0  ...                     0.201   30        0\n",
              "6           3.0     78.0           50.0  ...                     0.248   26        1\n",
              "7          10.0    115.0            NaN  ...                     0.134   29        0\n",
              "8           2.0    197.0           70.0  ...                     0.158   53        1\n",
              "9           8.0    125.0           96.0  ...                     0.232   54        1\n",
              "10          4.0    110.0           92.0  ...                     0.191   30        0\n",
              "11         10.0    168.0           74.0  ...                     0.537   34        1\n",
              "12         10.0    139.0           80.0  ...                     1.441   57        0\n",
              "13          1.0    189.0           60.0  ...                     0.398   59        1\n",
              "14          5.0    166.0           72.0  ...                     0.587   51        1\n",
              "15          7.0    100.0            NaN  ...                     0.484   32        1\n",
              "16          NaN    118.0           84.0  ...                     0.551   31        1\n",
              "17          7.0    107.0           74.0  ...                     0.254   31        1\n",
              "18          1.0    103.0           30.0  ...                     0.183   33        0\n",
              "19          1.0    115.0           70.0  ...                     0.529   32        1\n",
              "\n",
              "[20 rows x 9 columns]"
            ]
          },
          "metadata": {
            "tags": []
          },
          "execution_count": 7
        }
      ]
    },
    {
      "cell_type": "code",
      "metadata": {
        "colab": {
          "base_uri": "https://localhost:8080/",
          "height": 317
        },
        "id": "dtxfbZ7yf0t_",
        "outputId": "6e845cda-50db-485e-ecd1-b4e8f5d7ab83"
      },
      "source": [
        "diabetes3.describe()"
      ],
      "execution_count": null,
      "outputs": [
        {
          "output_type": "execute_result",
          "data": {
            "text/html": [
              "<div>\n",
              "<style scoped>\n",
              "    .dataframe tbody tr th:only-of-type {\n",
              "        vertical-align: middle;\n",
              "    }\n",
              "\n",
              "    .dataframe tbody tr th {\n",
              "        vertical-align: top;\n",
              "    }\n",
              "\n",
              "    .dataframe thead th {\n",
              "        text-align: right;\n",
              "    }\n",
              "</style>\n",
              "<table border=\"1\" class=\"dataframe\">\n",
              "  <thead>\n",
              "    <tr style=\"text-align: right;\">\n",
              "      <th></th>\n",
              "      <th>Pregnancies</th>\n",
              "      <th>Glucose</th>\n",
              "      <th>BloodPressure</th>\n",
              "      <th>SkinThickness</th>\n",
              "      <th>Insulin</th>\n",
              "      <th>BMI</th>\n",
              "      <th>DiabetesPedigreeFunction</th>\n",
              "      <th>Age</th>\n",
              "      <th>Outcome</th>\n",
              "    </tr>\n",
              "  </thead>\n",
              "  <tbody>\n",
              "    <tr>\n",
              "      <th>count</th>\n",
              "      <td>657.000000</td>\n",
              "      <td>763.000000</td>\n",
              "      <td>733.000000</td>\n",
              "      <td>541.000000</td>\n",
              "      <td>394.000000</td>\n",
              "      <td>757.000000</td>\n",
              "      <td>768.000000</td>\n",
              "      <td>768.000000</td>\n",
              "      <td>768.000000</td>\n",
              "    </tr>\n",
              "    <tr>\n",
              "      <th>mean</th>\n",
              "      <td>4.494673</td>\n",
              "      <td>121.686763</td>\n",
              "      <td>72.405184</td>\n",
              "      <td>29.153420</td>\n",
              "      <td>155.548223</td>\n",
              "      <td>32.457464</td>\n",
              "      <td>0.471876</td>\n",
              "      <td>33.240885</td>\n",
              "      <td>0.348958</td>\n",
              "    </tr>\n",
              "    <tr>\n",
              "      <th>std</th>\n",
              "      <td>3.217291</td>\n",
              "      <td>30.535641</td>\n",
              "      <td>12.382158</td>\n",
              "      <td>10.476982</td>\n",
              "      <td>118.775855</td>\n",
              "      <td>6.924988</td>\n",
              "      <td>0.331329</td>\n",
              "      <td>11.760232</td>\n",
              "      <td>0.476951</td>\n",
              "    </tr>\n",
              "    <tr>\n",
              "      <th>min</th>\n",
              "      <td>1.000000</td>\n",
              "      <td>44.000000</td>\n",
              "      <td>24.000000</td>\n",
              "      <td>7.000000</td>\n",
              "      <td>14.000000</td>\n",
              "      <td>18.200000</td>\n",
              "      <td>0.078000</td>\n",
              "      <td>21.000000</td>\n",
              "      <td>0.000000</td>\n",
              "    </tr>\n",
              "    <tr>\n",
              "      <th>25%</th>\n",
              "      <td>2.000000</td>\n",
              "      <td>99.000000</td>\n",
              "      <td>64.000000</td>\n",
              "      <td>22.000000</td>\n",
              "      <td>76.250000</td>\n",
              "      <td>27.500000</td>\n",
              "      <td>0.243750</td>\n",
              "      <td>24.000000</td>\n",
              "      <td>0.000000</td>\n",
              "    </tr>\n",
              "    <tr>\n",
              "      <th>50%</th>\n",
              "      <td>4.000000</td>\n",
              "      <td>117.000000</td>\n",
              "      <td>72.000000</td>\n",
              "      <td>29.000000</td>\n",
              "      <td>125.000000</td>\n",
              "      <td>32.300000</td>\n",
              "      <td>0.372500</td>\n",
              "      <td>29.000000</td>\n",
              "      <td>0.000000</td>\n",
              "    </tr>\n",
              "    <tr>\n",
              "      <th>75%</th>\n",
              "      <td>7.000000</td>\n",
              "      <td>141.000000</td>\n",
              "      <td>80.000000</td>\n",
              "      <td>36.000000</td>\n",
              "      <td>190.000000</td>\n",
              "      <td>36.600000</td>\n",
              "      <td>0.626250</td>\n",
              "      <td>41.000000</td>\n",
              "      <td>1.000000</td>\n",
              "    </tr>\n",
              "    <tr>\n",
              "      <th>max</th>\n",
              "      <td>17.000000</td>\n",
              "      <td>199.000000</td>\n",
              "      <td>122.000000</td>\n",
              "      <td>99.000000</td>\n",
              "      <td>846.000000</td>\n",
              "      <td>67.100000</td>\n",
              "      <td>2.420000</td>\n",
              "      <td>81.000000</td>\n",
              "      <td>1.000000</td>\n",
              "    </tr>\n",
              "  </tbody>\n",
              "</table>\n",
              "</div>"
            ],
            "text/plain": [
              "       Pregnancies     Glucose  ...         Age     Outcome\n",
              "count   657.000000  763.000000  ...  768.000000  768.000000\n",
              "mean      4.494673  121.686763  ...   33.240885    0.348958\n",
              "std       3.217291   30.535641  ...   11.760232    0.476951\n",
              "min       1.000000   44.000000  ...   21.000000    0.000000\n",
              "25%       2.000000   99.000000  ...   24.000000    0.000000\n",
              "50%       4.000000  117.000000  ...   29.000000    0.000000\n",
              "75%       7.000000  141.000000  ...   41.000000    1.000000\n",
              "max      17.000000  199.000000  ...   81.000000    1.000000\n",
              "\n",
              "[8 rows x 9 columns]"
            ]
          },
          "metadata": {
            "tags": []
          },
          "execution_count": 9
        }
      ]
    },
    {
      "cell_type": "code",
      "metadata": {
        "colab": {
          "base_uri": "https://localhost:8080/",
          "height": 606
        },
        "id": "BIHawoXoglZY",
        "outputId": "9a84b422-0ce6-4c79-e8e6-ca4e20c350eb"
      },
      "source": [
        "columns=['Pregnancies',\t'Glucose',\t'BloodPressure','SkinThickness','Insulin','BMI','DiabetesPedigreeFunction','Age']\n",
        "fig=plt.figure(figsize=(10,10))\n",
        "\n",
        "c=1\n",
        "for i in columns:\n",
        "  plt.subplot(3,3,c)\n",
        "  sns.boxplot(x=diabetes3[i],orient='h',palette='Paired')\n",
        "  c=c+1\n",
        "  "
      ],
      "execution_count": null,
      "outputs": [
        {
          "output_type": "display_data",
          "data": {
            "image/png": "[encoded data removed]",
            "text/plain": [
              "<Figure size 720x720 with 8 Axes>"
            ]
          },
          "metadata": {
            "tags": [],
            "needs_background": "light"
          }
        }
      ]
    },
    {
      "cell_type": "code",
      "metadata": {
        "colab": {
          "base_uri": "https://localhost:8080/"
        },
        "id": "UaMqFjuAJfJQ",
        "outputId": "c29c55be-559c-48d3-cedb-eb835d92dcc8"
      },
      "source": [
        "(diabetes['Age']==60).value_counts()"
      ],
      "execution_count": null,
      "outputs": [
        {
          "output_type": "execute_result",
          "data": {
            "text/plain": [
              "False    763\n",
              "True       5\n",
              "Name: Age, dtype: int64"
            ]
          },
          "metadata": {
            "tags": []
          },
          "execution_count": 104
        }
      ]
    },
    {
      "cell_type": "markdown",
      "metadata": {
        "id": "YWAmk-l-byWG"
      },
      "source": [
        "# Useful Insight:-\n",
        "1.Pregnancies contains outliers(>13)\n",
        "2.Glucose(no outlier)\n",
        "3.B.P(<40,>99)\n",
        "4.Skin thickness(>50)\n",
        "5.Insulin(>400)\n",
        "6.B.M.I(>50)\n",
        "7.D.P.F(>1)\n",
        "8.Age(>60)"
      ]
    },
    {
      "cell_type": "markdown",
      "metadata": {
        "id": "DQjs_PLLkYaM"
      },
      "source": [
        " # Missing values"
      ]
    },
    {
      "cell_type": "code",
      "metadata": {
        "id": "YTQyorxFkcQZ"
      },
      "source": [
        "diabetes_missing=diabetes3.isnull().mean()*100\n"
      ],
      "execution_count": null,
      "outputs": []
    },
    {
      "cell_type": "code",
      "metadata": {
        "colab": {
          "base_uri": "https://localhost:8080/",
          "height": 457
        },
        "id": "Tn94iKTNkioy",
        "outputId": "523f3671-179c-487e-d63e-b6e5d48db04a"
      },
      "source": [
        "fig=plt.figure(figsize=(10,5))\n",
        "diabetes_missing.plot(kind='bar')"
      ],
      "execution_count": null,
      "outputs": [
        {
          "output_type": "execute_result",
          "data": {
            "text/plain": [
              "<matplotlib.axes._subplots.AxesSubplot at 0x7f066aa2bc10>"
            ]
          },
          "metadata": {
            "tags": []
          },
          "execution_count": 12
        },
        {
          "output_type": "display_data",
          "data": {
            "image/png": "[encoded data removed]",
            "text/plain": [
              "<Figure size 720x360 with 1 Axes>"
            ]
          },
          "metadata": {
            "tags": [],
            "needs_background": "light"
          }
        }
      ]
    },
    {
      "cell_type": "markdown",
      "metadata": {
        "id": "3B4VwD76yW_j"
      },
      "source": [
        "# Note:-\n",
        "For this project i will replace null values in (Pregnancies,SkinThickness,Insulin) with median values and in (Glucose,B.P,B.M.I) i'll simply remove rows containing null values."
      ]
    },
    {
      "cell_type": "code",
      "metadata": {
        "colab": {
          "base_uri": "https://localhost:8080/"
        },
        "id": "6dLJrZJ_lZbX",
        "outputId": "4723950c-3d02-4612-8aa4-13b29279da12"
      },
      "source": [
        "#Deleting rows containing null values\n",
        "diabetes3=diabetes3[diabetes3['Glucose'].notnull()]\n",
        "diabetes3=diabetes3[diabetes3['BloodPressure'].notnull()]\n",
        "diabetes3=diabetes3[diabetes3['BMI'].notnull()]\n",
        "diabetes3.isnull().mean()*100\n",
        "\n",
        "\n",
        "\n"
      ],
      "execution_count": null,
      "outputs": [
        {
          "output_type": "execute_result",
          "data": {
            "text/plain": [
              "Pregnancies                 13.674033\n",
              "Glucose                      0.000000\n",
              "BloodPressure                0.000000\n",
              "SkinThickness               26.519337\n",
              "Insulin                     45.856354\n",
              "BMI                          0.000000\n",
              "DiabetesPedigreeFunction     0.000000\n",
              "Age                          0.000000\n",
              "Outcome                      0.000000\n",
              "dtype: float64"
            ]
          },
          "metadata": {
            "tags": []
          },
          "execution_count": 61
        }
      ]
    },
    {
      "cell_type": "code",
      "metadata": {
        "id": "UdhqyXfv51uG"
      },
      "source": [
        "for i in ['Pregnancies','SkinThickness','Insulin']:\n",
        "  med=diabetes3[i].median()\n",
        "  diabetes3[i]=diabetes3[i].replace(np.nan,med)\n",
        "\n",
        " "
      ],
      "execution_count": null,
      "outputs": []
    },
    {
      "cell_type": "code",
      "metadata": {
        "colab": {
          "base_uri": "https://localhost:8080/"
        },
        "id": "DDYWY39WEtO_",
        "outputId": "e28f8a91-47a1-4cf3-dbdf-c5008c90bd68"
      },
      "source": [
        "diabetes3.isnull().sum()"
      ],
      "execution_count": null,
      "outputs": [
        {
          "output_type": "execute_result",
          "data": {
            "text/plain": [
              "Pregnancies                 0\n",
              "Glucose                     0\n",
              "BloodPressure               0\n",
              "SkinThickness               0\n",
              "Insulin                     0\n",
              "BMI                         0\n",
              "DiabetesPedigreeFunction    0\n",
              "Age                         0\n",
              "Outcome                     0\n",
              "dtype: int64"
            ]
          },
          "metadata": {
            "tags": []
          },
          "execution_count": 8
        }
      ]
    },
    {
      "cell_type": "code",
      "metadata": {
        "colab": {
          "base_uri": "https://localhost:8080/",
          "height": 348
        },
        "id": "-PmJ6unUK8oG",
        "outputId": "16f7aa64-4beb-4eb6-a5f2-0018c511daa8"
      },
      "source": [
        "diabetes3.corr()"
      ],
      "execution_count": null,
      "outputs": [
        {
          "output_type": "execute_result",
          "data": {
            "text/html": [
              "<div>\n",
              "<style scoped>\n",
              "    .dataframe tbody tr th:only-of-type {\n",
              "        vertical-align: middle;\n",
              "    }\n",
              "\n",
              "    .dataframe tbody tr th {\n",
              "        vertical-align: top;\n",
              "    }\n",
              "\n",
              "    .dataframe thead th {\n",
              "        text-align: right;\n",
              "    }\n",
              "</style>\n",
              "<table border=\"1\" class=\"dataframe\">\n",
              "  <thead>\n",
              "    <tr style=\"text-align: right;\">\n",
              "      <th></th>\n",
              "      <th>Pregnancies</th>\n",
              "      <th>Glucose</th>\n",
              "      <th>BloodPressure</th>\n",
              "      <th>SkinThickness</th>\n",
              "      <th>Insulin</th>\n",
              "      <th>BMI</th>\n",
              "      <th>DiabetesPedigreeFunction</th>\n",
              "      <th>Age</th>\n",
              "      <th>Outcome</th>\n",
              "    </tr>\n",
              "  </thead>\n",
              "  <tbody>\n",
              "    <tr>\n",
              "      <th>Pregnancies</th>\n",
              "      <td>1.000000</td>\n",
              "      <td>0.160098</td>\n",
              "      <td>0.257478</td>\n",
              "      <td>0.125225</td>\n",
              "      <td>0.032614</td>\n",
              "      <td>0.089301</td>\n",
              "      <td>-0.008584</td>\n",
              "      <td>0.537596</td>\n",
              "      <td>0.244088</td>\n",
              "    </tr>\n",
              "    <tr>\n",
              "      <th>Glucose</th>\n",
              "      <td>0.160098</td>\n",
              "      <td>1.000000</td>\n",
              "      <td>0.223331</td>\n",
              "      <td>0.195340</td>\n",
              "      <td>0.427117</td>\n",
              "      <td>0.223276</td>\n",
              "      <td>0.136630</td>\n",
              "      <td>0.263560</td>\n",
              "      <td>0.488384</td>\n",
              "    </tr>\n",
              "    <tr>\n",
              "      <th>BloodPressure</th>\n",
              "      <td>0.257478</td>\n",
              "      <td>0.223331</td>\n",
              "      <td>1.000000</td>\n",
              "      <td>0.191570</td>\n",
              "      <td>0.045832</td>\n",
              "      <td>0.287403</td>\n",
              "      <td>-0.000075</td>\n",
              "      <td>0.324897</td>\n",
              "      <td>0.166703</td>\n",
              "    </tr>\n",
              "    <tr>\n",
              "      <th>SkinThickness</th>\n",
              "      <td>0.125225</td>\n",
              "      <td>0.195340</td>\n",
              "      <td>0.191570</td>\n",
              "      <td>1.000000</td>\n",
              "      <td>0.154145</td>\n",
              "      <td>0.555098</td>\n",
              "      <td>0.106670</td>\n",
              "      <td>0.124268</td>\n",
              "      <td>0.216357</td>\n",
              "    </tr>\n",
              "    <tr>\n",
              "      <th>Insulin</th>\n",
              "      <td>0.032614</td>\n",
              "      <td>0.427117</td>\n",
              "      <td>0.045832</td>\n",
              "      <td>0.154145</td>\n",
              "      <td>1.000000</td>\n",
              "      <td>0.184102</td>\n",
              "      <td>0.129494</td>\n",
              "      <td>0.096894</td>\n",
              "      <td>0.211736</td>\n",
              "    </tr>\n",
              "    <tr>\n",
              "      <th>BMI</th>\n",
              "      <td>0.089301</td>\n",
              "      <td>0.223276</td>\n",
              "      <td>0.287403</td>\n",
              "      <td>0.555098</td>\n",
              "      <td>0.184102</td>\n",
              "      <td>1.000000</td>\n",
              "      <td>0.154858</td>\n",
              "      <td>0.020835</td>\n",
              "      <td>0.299375</td>\n",
              "    </tr>\n",
              "    <tr>\n",
              "      <th>DiabetesPedigreeFunction</th>\n",
              "      <td>-0.008584</td>\n",
              "      <td>0.136630</td>\n",
              "      <td>-0.000075</td>\n",
              "      <td>0.106670</td>\n",
              "      <td>0.129494</td>\n",
              "      <td>0.154858</td>\n",
              "      <td>1.000000</td>\n",
              "      <td>0.023098</td>\n",
              "      <td>0.184947</td>\n",
              "    </tr>\n",
              "    <tr>\n",
              "      <th>Age</th>\n",
              "      <td>0.537596</td>\n",
              "      <td>0.263560</td>\n",
              "      <td>0.324897</td>\n",
              "      <td>0.124268</td>\n",
              "      <td>0.096894</td>\n",
              "      <td>0.020835</td>\n",
              "      <td>0.023098</td>\n",
              "      <td>1.000000</td>\n",
              "      <td>0.245741</td>\n",
              "    </tr>\n",
              "    <tr>\n",
              "      <th>Outcome</th>\n",
              "      <td>0.244088</td>\n",
              "      <td>0.488384</td>\n",
              "      <td>0.166703</td>\n",
              "      <td>0.216357</td>\n",
              "      <td>0.211736</td>\n",
              "      <td>0.299375</td>\n",
              "      <td>0.184947</td>\n",
              "      <td>0.245741</td>\n",
              "      <td>1.000000</td>\n",
              "    </tr>\n",
              "  </tbody>\n",
              "</table>\n",
              "</div>"
            ],
            "text/plain": [
              "                          Pregnancies   Glucose  ...       Age   Outcome\n",
              "Pregnancies                  1.000000  0.160098  ...  0.537596  0.244088\n",
              "Glucose                      0.160098  1.000000  ...  0.263560  0.488384\n",
              "BloodPressure                0.257478  0.223331  ...  0.324897  0.166703\n",
              "SkinThickness                0.125225  0.195340  ...  0.124268  0.216357\n",
              "Insulin                      0.032614  0.427117  ...  0.096894  0.211736\n",
              "BMI                          0.089301  0.223276  ...  0.020835  0.299375\n",
              "DiabetesPedigreeFunction    -0.008584  0.136630  ...  0.023098  0.184947\n",
              "Age                          0.537596  0.263560  ...  1.000000  0.245741\n",
              "Outcome                      0.244088  0.488384  ...  0.245741  1.000000\n",
              "\n",
              "[9 rows x 9 columns]"
            ]
          },
          "metadata": {
            "tags": []
          },
          "execution_count": 12
        }
      ]
    },
    {
      "cell_type": "code",
      "metadata": {
        "colab": {
          "base_uri": "https://localhost:8080/",
          "height": 461
        },
        "id": "Jq9H8aMfY2rT",
        "outputId": "cc6242ad-966b-4179-e5a8-aeb2de6ae910"
      },
      "source": [
        "fig=plt.figure(figsize=(10,5))\n",
        "sns.heatmap(diabetes3.corr())"
      ],
      "execution_count": null,
      "outputs": [
        {
          "output_type": "execute_result",
          "data": {
            "text/plain": [
              "<matplotlib.axes._subplots.AxesSubplot at 0x7f066032fbd0>"
            ]
          },
          "metadata": {
            "tags": []
          },
          "execution_count": 29
        },
        {
          "output_type": "display_data",
          "data": {
            "image/png": "[encoded data removed]",
            "text/plain": [
              "<Figure size 720x360 with 2 Axes>"
            ]
          },
          "metadata": {
            "tags": [],
            "needs_background": "light"
          }
        }
      ]
    },
    {
      "cell_type": "markdown",
      "metadata": {
        "id": "1i6Iu_xqw-ks"
      },
      "source": [
        "# Useful Insight:-\n",
        "Here we see that Glucose,BMI and Age is highly correlated with Outcome."
      ]
    },
    {
      "cell_type": "markdown",
      "metadata": {
        "id": "J25O4Pvu3JHj"
      },
      "source": [
        "# What is the age distribution of females having diabetes?"
      ]
    },
    {
      "cell_type": "code",
      "metadata": {
        "colab": {
          "base_uri": "https://localhost:8080/",
          "height": 296
        },
        "id": "XF4Lv1IBfcD1",
        "outputId": "434c46ba-fd53-426e-8774-33dd292365f4"
      },
      "source": [
        "Out_1=diabetes3[diabetes3['Outcome']==1]\n",
        "sns.distplot(Out_1['Age'],hist=True,kde=True)\n"
      ],
      "execution_count": null,
      "outputs": [
        {
          "output_type": "execute_result",
          "data": {
            "text/plain": [
              "<matplotlib.axes._subplots.AxesSubplot at 0x7fd53ef2b0d0>"
            ]
          },
          "metadata": {
            "tags": []
          },
          "execution_count": 65
        },
        {
          "output_type": "display_data",
          "data": {
            "image/png": "[encoded data removed]",
            "text/plain": [
              "<Figure size 432x288 with 1 Axes>"
            ]
          },
          "metadata": {
            "tags": [],
            "needs_background": "light"
          }
        }
      ]
    },
    {
      "cell_type": "markdown",
      "metadata": {
        "id": "FuEg2763GXt8"
      },
      "source": [
        "#Few Insights:\n",
        "1.Max no of females having diabetes are in the age-g.p between 21 to 45,other reasons  needs to be checked out.\n",
        "\n",
        "2.Here reasons for females having diabetes between age 60-70 needs to be checked out.\n",
        "\n",
        "Let us dive deeper into it ..........."
      ]
    },
    {
      "cell_type": "markdown",
      "metadata": {
        "id": "Q9GWIT7I4hxm"
      },
      "source": [
        "# Are Pregnancies responsible for Gestational Diabetes?"
      ]
    },
    {
      "cell_type": "code",
      "metadata": {
        "colab": {
          "base_uri": "https://localhost:8080/",
          "height": 351
        },
        "id": "NaGhPyhPJIUX",
        "outputId": "5e781030-355d-4226-af38-f3f380701a55"
      },
      "source": [
        "#Investigation of females between age g.p(21-45)\n",
        "Preg_no=Out_1[(Out_1['Age']>21)& (Out_1['Age']<46)]\n",
        "fig=plt.figure(figsize=(10,5))\n",
        "sns.distplot(Preg_no['Pregnancies'],hist=True,kde=True)"
      ],
      "execution_count": null,
      "outputs": [
        {
          "output_type": "execute_result",
          "data": {
            "text/plain": [
              "<matplotlib.axes._subplots.AxesSubplot at 0x7fd53ed9dcd0>"
            ]
          },
          "metadata": {
            "tags": []
          },
          "execution_count": 66
        },
        {
          "output_type": "display_data",
          "data": {
            "image/png": "[encoded data removed]",
            "text/plain": [
              "<Figure size 720x360 with 1 Axes>"
            ]
          },
          "metadata": {
            "tags": [],
            "needs_background": "light"
          }
        }
      ]
    },
    {
      "cell_type": "markdown",
      "metadata": {
        "id": "LlG19mRsO3U9"
      },
      "source": [
        "# Few insights:\n",
        "1.Max no of Pregnancies lie in range (2,5) of females in the age.gp between 21 to 45.\n",
        "### Insulin resistance increases your body's need for insulin. All pregnant women have some insulin resistance during late pregnancy. However, some women have insulin resistance even before they get pregnant. They start pregnancy with an increased need for insulin and are more likely to have gestational diabetes which later leads to Type-2 diabetes.\n",
        "There are chances that females have been affected by Gestational Diabetes which later leads to TYPE2 Diabetes."
      ]
    },
    {
      "cell_type": "markdown",
      "metadata": {
        "id": "P5x2-mt_7Kcl"
      },
      "source": [
        "# What is the range of Insulin Count and how it plays an important role in building of sugar in the blood?"
      ]
    },
    {
      "cell_type": "code",
      "metadata": {
        "colab": {
          "base_uri": "https://localhost:8080/"
        },
        "id": "q_smYM34RufE",
        "outputId": "a81af14c-ef4d-481f-fcb6-2408149b1e06"
      },
      "source": [
        "pd.set_option('display.max_rows',76)\n",
        "Preg_no['Insulin'].value_counts().sort_values(ascending=False)\n"
      ],
      "execution_count": null,
      "outputs": [
        {
          "output_type": "execute_result",
          "data": {
            "text/plain": [
              "125.5    87\n",
              "130.0     6\n",
              "180.0     3\n",
              "135.0     2\n",
              "168.0     2\n",
              "88.0      2\n",
              "194.0     2\n",
              "96.0      2\n",
              "125.0     2\n",
              "120.0     2\n",
              "90.0      2\n",
              "110.0     2\n",
              "115.0     2\n",
              "175.0     2\n",
              "99.0      2\n",
              "225.0     2\n",
              "155.0     2\n",
              "156.0     2\n",
              "160.0     2\n",
              "210.0     2\n",
              "220.0     2\n",
              "185.0     2\n",
              "271.0     1\n",
              "36.0      1\n",
              "100.0     1\n",
              "58.0      1\n",
              "114.0     1\n",
              "48.0      1\n",
              "145.0     1\n",
              "258.0     1\n",
              "129.0     1\n",
              "176.0     1\n",
              "182.0     1\n",
              "318.0     1\n",
              "74.0      1\n",
              "245.0     1\n",
              "304.0     1\n",
              "29.0      1\n",
              "122.0     1\n",
              "274.0     1\n",
              "510.0     1\n",
              "474.0     1\n",
              "171.0     1\n",
              "167.0     1\n",
              "249.0     1\n",
              "325.0     1\n",
              "140.0     1\n",
              "465.0     1\n",
              "277.0     1\n",
              "105.0     1\n",
              "14.0      1\n",
              "64.0      1\n",
              "191.0     1\n",
              "328.0     1\n",
              "250.0     1\n",
              "215.0     1\n",
              "200.0     1\n",
              "360.0     1\n",
              "79.0      1\n",
              "579.0     1\n",
              "205.0     1\n",
              "540.0     1\n",
              "165.0     1\n",
              "293.0     1\n",
              "321.0     1\n",
              "91.0      1\n",
              "144.0     1\n",
              "159.0     1\n",
              "70.0      1\n",
              "190.0     1\n",
              "231.0     1\n",
              "480.0     1\n",
              "392.0     1\n",
              "127.0     1\n",
              "230.0     1\n",
              "Name: Insulin, dtype: int64"
            ]
          },
          "metadata": {
            "tags": []
          },
          "execution_count": 29
        }
      ]
    },
    {
      "cell_type": "code",
      "metadata": {
        "colab": {
          "base_uri": "https://localhost:8080/"
        },
        "id": "fZGVgZBgizjw",
        "outputId": "b63d3ab0-e726-41cb-f7fc-8b7c2b8c16ca"
      },
      "source": [
        "len(Preg_no[Preg_no['Insulin']>166])/len(Preg_no['Insulin'])*100"
      ],
      "execution_count": null,
      "outputs": [
        {
          "output_type": "execute_result",
          "data": {
            "text/plain": [
              "26.203208556149733"
            ]
          },
          "metadata": {
            "tags": []
          },
          "execution_count": 12
        }
      ]
    },
    {
      "cell_type": "markdown",
      "metadata": {
        "id": "bEtHPj05mdAK"
      },
      "source": [
        "# Few insights:\n",
        "1.Max no of Insulin counts is 125.5 which is also median value,since most of data is missing in insulin so we can't get clear idea about insulin level in diabetic patients.\n",
        "\n",
        "2.But 2-hr permissible insulin level is 16-166,so it is found that 27% of females is having insulin resistance which happens during TYPE-2 diabetes.\n",
        "\n"
      ]
    },
    {
      "cell_type": "code",
      "metadata": {
        "colab": {
          "base_uri": "https://localhost:8080/",
          "height": 296
        },
        "id": "PK32aIvApHVc",
        "outputId": "a2016024-c51c-4f35-ce49-0d7bc2bff06b"
      },
      "source": [
        "Glu_count=Preg_no[Preg_no['Glucose']>=140]\n",
        "sns.distplot(Glu_count['Glucose'],hist=True,kde=True)\n",
        "\n",
        "\n",
        "\n"
      ],
      "execution_count": null,
      "outputs": [
        {
          "output_type": "execute_result",
          "data": {
            "text/plain": [
              "<matplotlib.axes._subplots.AxesSubplot at 0x7fd53eda0650>"
            ]
          },
          "metadata": {
            "tags": []
          },
          "execution_count": 67
        },
        {
          "output_type": "display_data",
          "data": {
            "image/png": "[encoded data removed]",
            "text/plain": [
              "<Figure size 432x288 with 1 Axes>"
            ]
          },
          "metadata": {
            "tags": [],
            "needs_background": "light"
          }
        }
      ]
    },
    {
      "cell_type": "markdown",
      "metadata": {
        "id": "Tr7BRXb8-UZh"
      },
      "source": [
        "# Few Useful Insights:\n",
        "Here we can see that glucose level is between 140 and 200,so females have Prediabetes and medically it is said that  people with type 2 diabetes almost always had prediabetes."
      ]
    },
    {
      "cell_type": "markdown",
      "metadata": {
        "id": "65NuKfbr-q6h"
      },
      "source": [
        "# Is Blood Pressure have some role in diabetes?"
      ]
    },
    {
      "cell_type": "code",
      "metadata": {
        "colab": {
          "base_uri": "https://localhost:8080/"
        },
        "id": "Uwqtv3UF-56c",
        "outputId": "ea410539-9e62-43f8-8939-498c31d7dfe8"
      },
      "source": [
        "len(Preg_no[Preg_no['BloodPressure']>90])/len(Preg_no['BloodPressure'])*100 \n",
        "# As Diastolic B.P is considered high when it is greater than 90 mm/hg "
      ],
      "execution_count": null,
      "outputs": [
        {
          "output_type": "execute_result",
          "data": {
            "text/plain": [
              "6.417112299465241"
            ]
          },
          "metadata": {
            "tags": []
          },
          "execution_count": 82
        }
      ]
    },
    {
      "cell_type": "markdown",
      "metadata": {
        "id": "DxWoOb6PA8iv"
      },
      "source": [
        "# Useful Insight:-\n",
        " Not a Significant Figure(around 6%)so B.P have no effect on diabetes."
      ]
    },
    {
      "cell_type": "markdown",
      "metadata": {
        "id": "-_1ooy9zFnDb"
      },
      "source": [
        "# What is role of B.M.I in diabetes?"
      ]
    },
    {
      "cell_type": "code",
      "metadata": {
        "id": "dq9ALTHFq4av",
        "colab": {
          "base_uri": "https://localhost:8080/",
          "height": 296
        },
        "outputId": "ae9bc6cf-f1f3-42ea-8f27-84454b844c10"
      },
      "source": [
        "pd.set_option('display.max_rows',86)\n",
        "sns.distplot(Preg_no['BMI'],hist=True,kde=True)"
      ],
      "execution_count": null,
      "outputs": [
        {
          "output_type": "execute_result",
          "data": {
            "text/plain": [
              "<matplotlib.axes._subplots.AxesSubplot at 0x7fd5467bf310>"
            ]
          },
          "metadata": {
            "tags": []
          },
          "execution_count": 85
        },
        {
          "output_type": "display_data",
          "data": {
            "image/png": "[encoded data removed]",
            "text/plain": [
              "<Figure size 432x288 with 1 Axes>"
            ]
          },
          "metadata": {
            "tags": [],
            "needs_background": "light"
          }
        }
      ]
    },
    {
      "cell_type": "markdown",
      "metadata": {
        "id": "6msYaztM0iI1"
      },
      "source": [
        "# BMI:\n",
        "For adults, experts usually define obesity based on body mass index, or BMI this formula relates  weight to your height.\n",
        "#BMI range: :\n",
        "Below 18.5: underweight\n",
        "\n",
        "18.5-24.9: normal\n",
        "\n",
        "25-29.9: overweight\n",
        "\n"
      ]
    },
    {
      "cell_type": "code",
      "metadata": {
        "colab": {
          "base_uri": "https://localhost:8080/"
        },
        "id": "EgoJD2l02Mvb",
        "outputId": "7953e54f-da0f-42cc-aecc-352762948979"
      },
      "source": [
        "len(Preg_no[Preg_no['BMI']>=25])/len(Preg_no['BMI'])*100"
      ],
      "execution_count": null,
      "outputs": [
        {
          "output_type": "execute_result",
          "data": {
            "text/plain": [
              "98.3957219251337"
            ]
          },
          "metadata": {
            "tags": []
          },
          "execution_count": 88
        }
      ]
    },
    {
      "cell_type": "markdown",
      "metadata": {
        "id": "7oprWgEB39G4"
      },
      "source": [
        "# Very Useful Insights:\n",
        " About 98% of females is overweight  so it becomes clear that overweight contributes significantly in diabetes."
      ]
    },
    {
      "cell_type": "markdown",
      "metadata": {
        "id": "1A0CN7vONV0i"
      },
      "source": [
        "# What are reasons for diabetes in aged people?"
      ]
    },
    {
      "cell_type": "code",
      "metadata": {
        "colab": {
          "base_uri": "https://localhost:8080/",
          "height": 296
        },
        "id": "5jjg5FQVISIg",
        "outputId": "f37a0c31-35db-4994-ca36-7cdc3f969d86"
      },
      "source": [
        "Outliers=Out_1[Out_1['Age']>60]\n",
        "sns.countplot(x=Outliers['Pregnancies'],data=Outliers)\n"
      ],
      "execution_count": null,
      "outputs": [
        {
          "output_type": "execute_result",
          "data": {
            "text/plain": [
              "<matplotlib.axes._subplots.AxesSubplot at 0x7fd5471dfa90>"
            ]
          },
          "metadata": {
            "tags": []
          },
          "execution_count": 117
        },
        {
          "output_type": "display_data",
          "data": {
            "image/png": "[encoded data removed]",
            "text/plain": [
              "<Figure size 432x288 with 1 Axes>"
            ]
          },
          "metadata": {
            "tags": [],
            "needs_background": "light"
          }
        }
      ]
    },
    {
      "cell_type": "markdown",
      "metadata": {
        "id": "OAjXsY5rHjD6"
      },
      "source": [
        "# Useful Insights:-\n",
        "Pregnancies may have caused Gestational diabetes which may have lead to TYPE-2  diabetes."
      ]
    },
    {
      "cell_type": "code",
      "metadata": {
        "colab": {
          "base_uri": "https://localhost:8080/"
        },
        "id": "s0mWplcWKkqL",
        "outputId": "93b83e97-def5-443e-a4fa-c9eca3a0a2df"
      },
      "source": [
        "Outliers['Insulin']"
      ],
      "execution_count": null,
      "outputs": [
        {
          "output_type": "execute_result",
          "data": {
            "text/plain": [
              "115    125.5\n",
              "129    125.5\n",
              "221    125.5\n",
              "363    125.5\n",
              "579    125.5\n",
              "666    125.5\n",
              "759    125.5\n",
              "Name: Insulin, dtype: float64"
            ]
          },
          "metadata": {
            "tags": []
          },
          "execution_count": 119
        }
      ]
    },
    {
      "cell_type": "markdown",
      "metadata": {
        "id": "s9OxkWO1NcYo"
      },
      "source": [
        "# Note:-\n",
        "Insulin level of aged female is 125.5 which is imputed median value so we can't get a clear idea."
      ]
    },
    {
      "cell_type": "code",
      "metadata": {
        "id": "6r8OkFRiSdOD",
        "colab": {
          "base_uri": "https://localhost:8080/"
        },
        "outputId": "31772ef3-7bb8-4195-dbc3-9bf4351a4044"
      },
      "source": [
        "len(Outliers[Outliers['Glucose']>140])/len(Outliers['Glucose'])*100\n",
        "# Glucose level between 140-199 is considered prediabetes."
      ],
      "execution_count": null,
      "outputs": [
        {
          "output_type": "execute_result",
          "data": {
            "text/plain": [
              "85.71428571428571"
            ]
          },
          "metadata": {
            "tags": []
          },
          "execution_count": 123
        }
      ]
    },
    {
      "cell_type": "markdown",
      "metadata": {
        "id": "YXkPrxfkOi2_"
      },
      "source": [
        "# Useful Insight:-\n",
        "About 86% of people have prediabetes and it is said medically that people with type 2 diabetes almost always had prediabetes first."
      ]
    },
    {
      "cell_type": "markdown",
      "metadata": {
        "id": "3xe9taR3QtXO"
      },
      "source": [
        "Note:-\n",
        "We can do more analysis considering DiabetesPedigreeFunction."
      ]
    },
    {
      "cell_type": "markdown",
      "metadata": {
        "id": "q8DeSdmOP3eG"
      },
      "source": [
        "# Note:-\n",
        "To add to this project, we can try running ML algorithms on the data (both the original dataset, and with the modifications we've made), to see if we can create a model that accurately predicts whether a person has or hasn't diabetes.\n",
        "\n",
        "This notebook will be updated with those sections in the future."
      ]
    },
    {
      "cell_type": "code",
      "metadata": {
        "id": "kf2gZFb5MO8A"
      },
      "source": [
        ""
      ],
      "execution_count": null,
      "outputs": []
    }
  ]
}